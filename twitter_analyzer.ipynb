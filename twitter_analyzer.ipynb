{
 "cells": [
  {
   "cell_type": "code",
   "execution_count": 1,
   "metadata": {},
   "outputs": [],
   "source": [
    "from read_user_timeline import read_user_timeline\n",
    "import pickle\n",
    "import os\n",
    "import pandas as pd"
   ]
  },
  {
   "cell_type": "code",
   "execution_count": 2,
   "metadata": {},
   "outputs": [],
   "source": [
    "office = ['Microsoft365','MSFTDynamics365','linkedin']\n",
    "computing = ['Xbox','surface','windows']\n",
    "cloud = ['Azure','SQLServer','windowsserver','github']"
   ]
  },
  {
   "cell_type": "code",
   "execution_count": 3,
   "metadata": {},
   "outputs": [
    {
     "name": "stdout",
     "output_type": "stream",
     "text": [
      "hello\n"
     ]
    }
   ],
   "source": [
    "if(os.path.isfile('@Microsoft365tweets.sav')==False):\n",
    "    print('hello')"
   ]
  },
  {
   "cell_type": "code",
   "execution_count": 9,
   "metadata": {},
   "outputs": [
    {
     "name": "stdout",
     "output_type": "stream",
     "text": [
      "Loading previously extracted timeline for Microsoft365\n",
      "Loading previously extracted timeline for MSFTDynamics365\n",
      "Loading previously extracted timeline for linkedin\n"
     ]
    }
   ],
   "source": [
    "tweets_office=[]\n",
    "for thandle in office:\n",
    "    if(os.path.isfile(thandle+'tweets.sav')==False):\n",
    "        print('Extracting timeline for ' +thandle)\n",
    "        read_user_timeline(thandle, 'tweepy')\n",
    "        tweets_office.append(pickle.load(open(thandle+'tweets.sav','rb')))\n",
    "    else:\n",
    "        print('Loading previously extracted timeline for ' + thandle)\n",
    "        tweets_office.append(pickle.load(open(thandle+'tweets.sav','rb')))"
   ]
  },
  {
   "cell_type": "code",
   "execution_count": 10,
   "metadata": {},
   "outputs": [],
   "source": [
    "date_range = []\n",
    "date_list = []\n",
    "text_list = []\n",
    "for i in range(len(tweets_office)):\n",
    "    dates = [t['created_at'] for t in tweets_office[i]]\n",
    "    dates = pd.to_datetime(dates)\n",
    "    date_list.append(dates)\n",
    "    text = [t['text'] for t in tweets_office[i]]\n",
    "    text_list.append(text)\n",
    "    tmp=[]\n",
    "    tmp.append(dates.min())\n",
    "    tmp.append(dates.max())\n",
    "    date_range.append(tmp)"
   ]
  },
  {
   "cell_type": "code",
   "execution_count": 11,
   "metadata": {},
   "outputs": [
    {
     "data": {
      "text/plain": [
       "[[Timestamp('2020-02-20 12:28:22+0000', tz='UTC'),\n",
       "  Timestamp('2020-09-17 18:00:05+0000', tz='UTC')],\n",
       " [Timestamp('2019-08-21 20:46:00+0000', tz='UTC'),\n",
       "  Timestamp('2020-09-17 18:30:02+0000', tz='UTC')],\n",
       " [Timestamp('2018-02-23 23:48:00+0000', tz='UTC'),\n",
       "  Timestamp('2020-09-17 16:18:35+0000', tz='UTC')]]"
      ]
     },
     "execution_count": 11,
     "metadata": {},
     "output_type": "execute_result"
    }
   ],
   "source": [
    "date_range"
   ]
  },
  {
   "cell_type": "code",
   "execution_count": 12,
   "metadata": {},
   "outputs": [
    {
     "data": {
      "text/plain": [
       "(2000,)"
      ]
     },
     "execution_count": 12,
     "metadata": {},
     "output_type": "execute_result"
    }
   ],
   "source": [
    "date_list[0].shape"
   ]
  },
  {
   "cell_type": "code",
   "execution_count": 13,
   "metadata": {},
   "outputs": [
    {
     "data": {
      "text/plain": [
       "(2000, 1)"
      ]
     },
     "execution_count": 13,
     "metadata": {},
     "output_type": "execute_result"
    }
   ],
   "source": [
    "df = pd.DataFrame(date_list[0],columns=['Date'])\n",
    "df.shape"
   ]
  },
  {
   "cell_type": "code",
   "execution_count": 15,
   "metadata": {},
   "outputs": [],
   "source": [
    "df['Text'] = text_list[0]"
   ]
  },
  {
   "cell_type": "code",
   "execution_count": 16,
   "metadata": {},
   "outputs": [
    {
     "data": {
      "text/html": [
       "<div>\n",
       "<style scoped>\n",
       "    .dataframe tbody tr th:only-of-type {\n",
       "        vertical-align: middle;\n",
       "    }\n",
       "\n",
       "    .dataframe tbody tr th {\n",
       "        vertical-align: top;\n",
       "    }\n",
       "\n",
       "    .dataframe thead th {\n",
       "        text-align: right;\n",
       "    }\n",
       "</style>\n",
       "<table border=\"1\" class=\"dataframe\">\n",
       "  <thead>\n",
       "    <tr style=\"text-align: right;\">\n",
       "      <th></th>\n",
       "      <th>Date</th>\n",
       "      <th>Text</th>\n",
       "    </tr>\n",
       "  </thead>\n",
       "  <tbody>\n",
       "    <tr>\n",
       "      <th>0</th>\n",
       "      <td>2020-09-17 18:00:05+00:00</td>\n",
       "      <td>On September 22, join our engineering, product...</td>\n",
       "    </tr>\n",
       "    <tr>\n",
       "      <th>1</th>\n",
       "      <td>2020-09-17 16:37:50+00:00</td>\n",
       "      <td>@hiteshsamvedi Hi there, we're sorry to hear t...</td>\n",
       "    </tr>\n",
       "    <tr>\n",
       "      <th>2</th>\n",
       "      <td>2020-09-17 16:29:41+00:00</td>\n",
       "      <td>@Jonatha48569290 Hi Jonathan, thanks for reach...</td>\n",
       "    </tr>\n",
       "    <tr>\n",
       "      <th>3</th>\n",
       "      <td>2020-09-17 16:24:02+00:00</td>\n",
       "      <td>@CTSLAFRICA Great choice! 👍</td>\n",
       "    </tr>\n",
       "    <tr>\n",
       "      <th>4</th>\n",
       "      <td>2020-09-17 15:00:13+00:00</td>\n",
       "      <td>How do you deliver meaningful customer engagem...</td>\n",
       "    </tr>\n",
       "  </tbody>\n",
       "</table>\n",
       "</div>"
      ],
      "text/plain": [
       "                       Date                                               Text\n",
       "0 2020-09-17 18:00:05+00:00  On September 22, join our engineering, product...\n",
       "1 2020-09-17 16:37:50+00:00  @hiteshsamvedi Hi there, we're sorry to hear t...\n",
       "2 2020-09-17 16:29:41+00:00  @Jonatha48569290 Hi Jonathan, thanks for reach...\n",
       "3 2020-09-17 16:24:02+00:00                        @CTSLAFRICA Great choice! 👍\n",
       "4 2020-09-17 15:00:13+00:00  How do you deliver meaningful customer engagem..."
      ]
     },
     "execution_count": 16,
     "metadata": {},
     "output_type": "execute_result"
    }
   ],
   "source": [
    "df.head()"
   ]
  },
  {
   "cell_type": "code",
   "execution_count": null,
   "metadata": {},
   "outputs": [],
   "source": []
  }
 ],
 "metadata": {
  "kernelspec": {
   "display_name": "Python 3",
   "language": "python",
   "name": "python3"
  },
  "language_info": {
   "codemirror_mode": {
    "name": "ipython",
    "version": 3
   },
   "file_extension": ".py",
   "mimetype": "text/x-python",
   "name": "python",
   "nbconvert_exporter": "python",
   "pygments_lexer": "ipython3",
   "version": "3.8.5"
  }
 },
 "nbformat": 4,
 "nbformat_minor": 4
}
