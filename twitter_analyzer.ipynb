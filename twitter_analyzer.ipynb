{
 "cells": [
  {
   "cell_type": "code",
   "execution_count": 22,
   "metadata": {},
   "outputs": [],
   "source": [
    "from read_user_timeline import read_user_timeline\n",
    "import pickle\n",
    "import os\n",
    "import pandas as pd"
   ]
  },
  {
   "cell_type": "code",
   "execution_count": 15,
   "metadata": {},
   "outputs": [],
   "source": [
    "office = ['@Microsoft365','@MSFTDynamics365','@linkedin']\n",
    "computing = ['@Xbox','@surface','@windows']\n",
    "cloud = ['@Azure','@SQLServer','@windowsserver','@github']"
   ]
  },
  {
   "cell_type": "code",
   "execution_count": 16,
   "metadata": {},
   "outputs": [],
   "source": [
    "if(os.path.isfile('@Microsoft365tweets.sav')==False):\n",
    "    print('hello')"
   ]
  },
  {
   "cell_type": "code",
   "execution_count": 25,
   "metadata": {},
   "outputs": [
    {
     "name": "stdout",
     "output_type": "stream",
     "text": [
      "Loading previously extracted timeline for @Microsoft365\n",
      "Loading previously extracted timeline for @MSFTDynamics365\n",
      "Loading previously extracted timeline for @linkedin\n"
     ]
    }
   ],
   "source": [
    "tweets_office=[]\n",
    "for thandle in office:\n",
    "    if(os.path.isfile(thandle+'tweets.sav')==False):\n",
    "        print('Extracting timeline for ' +thandle)\n",
    "        read_user_timeline(thandle)\n",
    "    else:\n",
    "        print('Loading previously extracted timeline for ' + thandle)\n",
    "        tweets_office.append(pickle.load(open(thandle+'tweets.sav','rb')))"
   ]
  },
  {
   "cell_type": "code",
   "execution_count": 26,
   "metadata": {},
   "outputs": [],
   "source": [
    "date_range = []\n",
    "for i in range(len(tweets_office)):\n",
    "    dates = [t['created_at'] for t in tweets_office[i]]\n",
    "    dates = pd.to_datetime(dates)\n",
    "    tmp=[]\n",
    "    tmp.append(dates.min())\n",
    "    tmp.append(dates.max())\n",
    "    date_range.append(tmp)"
   ]
  },
  {
   "cell_type": "code",
   "execution_count": 27,
   "metadata": {},
   "outputs": [
    {
     "data": {
      "text/plain": [
       "[[Timestamp('2020-02-19 19:41:22+0000', tz='UTC'),\n",
       "  Timestamp('2020-09-16 15:30:08+0000', tz='UTC')],\n",
       " [Timestamp('2019-08-20 15:00:02+0000', tz='UTC'),\n",
       "  Timestamp('2020-09-16 13:30:01+0000', tz='UTC')],\n",
       " [Timestamp('2018-02-21 18:12:00+0000', tz='UTC'),\n",
       "  Timestamp('2020-09-16 13:15:00+0000', tz='UTC')]]"
      ]
     },
     "execution_count": 27,
     "metadata": {},
     "output_type": "execute_result"
    }
   ],
   "source": [
    "date_range"
   ]
  },
  {
   "cell_type": "code",
   "execution_count": null,
   "metadata": {},
   "outputs": [],
   "source": []
  }
 ],
 "metadata": {
  "kernelspec": {
   "display_name": "Python 3",
   "language": "python",
   "name": "python3"
  },
  "language_info": {
   "codemirror_mode": {
    "name": "ipython",
    "version": 3
   },
   "file_extension": ".py",
   "mimetype": "text/x-python",
   "name": "python",
   "nbconvert_exporter": "python",
   "pygments_lexer": "ipython3",
   "version": "3.8.5"
  }
 },
 "nbformat": 4,
 "nbformat_minor": 4
}
